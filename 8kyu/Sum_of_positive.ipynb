{
  "nbformat": 4,
  "nbformat_minor": 0,
  "metadata": {
    "colab": {
      "provenance": [],
      "authorship_tag": "ABX9TyPBihgc3AZ537Ym/8uUEmwi",
      "include_colab_link": true
    },
    "kernelspec": {
      "name": "python3",
      "display_name": "Python 3"
    },
    "language_info": {
      "name": "python"
    }
  },
  "cells": [
    {
      "cell_type": "markdown",
      "metadata": {
        "id": "view-in-github",
        "colab_type": "text"
      },
      "source": [
        "<a href=\"https://colab.research.google.com/github/financieras/Codewars/blob/main/8kyu/Sum_of_positive.ipynb\" target=\"_parent\"><img src=\"https://colab.research.google.com/assets/colab-badge.svg\" alt=\"Open In Colab\"/></a>"
      ]
    },
    {
      "cell_type": "markdown",
      "source": [
        "# Sum of positive\n",
        "* 8kyu\n",
        "\n",
        "You get an array of numbers, return the sum of all of the positives ones.\n",
        "\n",
        "**Example**\n",
        "\n",
        "`[1,-4,7,12] => 1 + 7 + 12 = 20`\n",
        "\n",
        "Note: if there is nothing to sum, the sum is default to 0."
      ],
      "metadata": {
        "id": "w1J4mHUleGF6"
      }
    },
    {
      "cell_type": "code",
      "execution_count": 2,
      "metadata": {
        "colab": {
          "base_uri": "https://localhost:8080/"
        },
        "id": "VaScOxwYdsvh",
        "outputId": "24f11106-a56a-4ffe-ec9e-121616aae6b7"
      },
      "outputs": [
        {
          "output_type": "execute_result",
          "data": {
            "text/plain": [
              "5"
            ]
          },
          "metadata": {},
          "execution_count": 2
        }
      ],
      "source": [
        "def positive_sum(arr):\n",
        "    return sum(n for n in arr if n > 0)\n",
        "\n",
        "positive_sum([2,0,-2,3])"
      ]
    }
  ]
}