{
  "nbformat": 4,
  "nbformat_minor": 0,
  "metadata": {
    "colab": {
      "provenance": [],
      "authorship_tag": "ABX9TyOPcTzbAZVuR57t6woAN5Ob",
      "include_colab_link": true
    },
    "kernelspec": {
      "name": "python3",
      "display_name": "Python 3"
    },
    "language_info": {
      "name": "python"
    }
  },
  "cells": [
    {
      "cell_type": "markdown",
      "metadata": {
        "id": "view-in-github",
        "colab_type": "text"
      },
      "source": [
        "<a href=\"https://colab.research.google.com/github/financieras/Codewars/blob/main/7kyu/Is_this_a_triangle.ipynb\" target=\"_parent\"><img src=\"https://colab.research.google.com/assets/colab-badge.svg\" alt=\"Open In Colab\"/></a>"
      ]
    },
    {
      "cell_type": "markdown",
      "source": [
        "# Is this a triangle?\n",
        "Implement a function that accepts 3 integer values a, b, c. The function should return `True` if a triangle can be built with the sides of given length and `False` in any other case.\n",
        "\n",
        "(In this case, all triangles must have surface greater than 0 to be accepted)."
      ],
      "metadata": {
        "id": "6pXepVZt491T"
      }
    },
    {
      "cell_type": "code",
      "execution_count": 3,
      "metadata": {
        "colab": {
          "base_uri": "https://localhost:8080/"
        },
        "id": "x_ooxP7-49F-",
        "outputId": "309393d3-0a5e-43ca-f5af-6a681b07484b"
      },
      "outputs": [
        {
          "output_type": "execute_result",
          "data": {
            "text/plain": [
              "True"
            ]
          },
          "metadata": {},
          "execution_count": 3
        }
      ],
      "source": [
        "# a+b > c, a+c > b, and b+c > a\n",
        "\n",
        "def is_triangle(a, b, c):\n",
        "    if a+b>c or a+c>b or b+c>a:\n",
        "        return True\n",
        "    return False\n",
        "\n",
        "\n",
        "is_triangle(2,3,5)"
      ]
    }
  ]
}