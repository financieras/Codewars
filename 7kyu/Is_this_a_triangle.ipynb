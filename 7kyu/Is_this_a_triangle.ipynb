{
  "nbformat": 4,
  "nbformat_minor": 0,
  "metadata": {
    "colab": {
      "provenance": [],
      "authorship_tag": "ABX9TyMs0ioIz+3+eBznCzIvDKd1",
      "include_colab_link": true
    },
    "kernelspec": {
      "name": "python3",
      "display_name": "Python 3"
    },
    "language_info": {
      "name": "python"
    }
  },
  "cells": [
    {
      "cell_type": "markdown",
      "metadata": {
        "id": "view-in-github",
        "colab_type": "text"
      },
      "source": [
        "<a href=\"https://colab.research.google.com/github/financieras/Codewars/blob/main/7kyu/Is_this_a_triangle.ipynb\" target=\"_parent\"><img src=\"https://colab.research.google.com/assets/colab-badge.svg\" alt=\"Open In Colab\"/></a>"
      ]
    },
    {
      "cell_type": "markdown",
      "source": [
        "# Is this a triangle?\n",
        "Implement a function that accepts 3 integer values a, b, c. The function should return `True` if a triangle can be built with the sides of given length and `False` in any other case.\n",
        "\n",
        "(In this case, all triangles must have surface greater than 0 to be accepted)."
      ],
      "metadata": {
        "id": "6pXepVZt491T"
      }
    },
    {
      "cell_type": "code",
      "source": [
        "def is_triangle(a, b, c):\n",
        "    return (False, True)[a+b>c and a+c>b and b+c>a]\n",
        "\n",
        "print(is_triangle(1,2,2))"
      ],
      "metadata": {
        "id": "bTwqIODI93Th",
        "outputId": "c2d0aa32-84fd-4f40-fc48-1c79f7c78345",
        "colab": {
          "base_uri": "https://localhost:8080/"
        }
      },
      "execution_count": null,
      "outputs": [
        {
          "output_type": "stream",
          "name": "stdout",
          "text": [
            "True\n"
          ]
        }
      ]
    },
    {
      "cell_type": "code",
      "execution_count": null,
      "metadata": {
        "colab": {
          "base_uri": "https://localhost:8080/"
        },
        "id": "x_ooxP7-49F-",
        "outputId": "0ab44e80-363d-4c20-b14d-5c25797ddda2"
      },
      "outputs": [
        {
          "output_type": "execute_result",
          "data": {
            "text/plain": [
              "True"
            ]
          },
          "metadata": {},
          "execution_count": 14
        }
      ],
      "source": [
        "# a+b > c, a+c > b, and b+c > a\n",
        "\n",
        "def is_triangle(a, b, c):\n",
        "    return a+b>c and a+c>b and b+c>a\n",
        "\n",
        "is_triangle(2,3,4)"
      ]
    },
    {
      "cell_type": "code",
      "source": [
        "def is_triangle(a, b, c):\n",
        "    return all([a+b>c, a+c>b, b+c>a])\n",
        "\n",
        "is_triangle(2,3,4)"
      ],
      "metadata": {
        "colab": {
          "base_uri": "https://localhost:8080/"
        },
        "id": "hamGzAnmMyDW",
        "outputId": "f329ee1d-5e07-460a-fa31-a4196ae40654"
      },
      "execution_count": 9,
      "outputs": [
        {
          "output_type": "execute_result",
          "data": {
            "text/plain": [
              "True"
            ]
          },
          "metadata": {},
          "execution_count": 9
        }
      ]
    }
  ]
}