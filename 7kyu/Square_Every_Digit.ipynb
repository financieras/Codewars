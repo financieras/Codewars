{
  "nbformat": 4,
  "nbformat_minor": 0,
  "metadata": {
    "colab": {
      "provenance": [],
      "authorship_tag": "ABX9TyNCkdanjyrjmpb+1STL+uHc",
      "include_colab_link": true
    },
    "kernelspec": {
      "name": "python3",
      "display_name": "Python 3"
    },
    "language_info": {
      "name": "python"
    }
  },
  "cells": [
    {
      "cell_type": "markdown",
      "metadata": {
        "id": "view-in-github",
        "colab_type": "text"
      },
      "source": [
        "<a href=\"https://colab.research.google.com/github/financieras/Codewars/blob/main/7kyu/Square_Every_Digit.ipynb\" target=\"_parent\"><img src=\"https://colab.research.google.com/assets/colab-badge.svg\" alt=\"Open In Colab\"/></a>"
      ]
    },
    {
      "cell_type": "markdown",
      "source": [
        "# Square Every Digit\n",
        "In this kata, you are asked to square every digit of a number and concatenate them.\n",
        "\n",
        "For example, if we run 9119 through the function, 811181 will come out, because 9^2 is 8^1 and 1^2 is 1. (81-1-1-81)\n",
        "\n",
        "Example #2: An input of 765 will/should return 493625 because 7^2 is 49, 6^2 is 36, and 5^2 is 25. (49-36-25)\n",
        "\n",
        "Note: The function accepts an integer and returns an integer."
      ],
      "metadata": {
        "id": "MGYMiDa6gnHQ"
      }
    },
    {
      "cell_type": "code",
      "execution_count": 6,
      "metadata": {
        "colab": {
          "base_uri": "https://localhost:8080/"
        },
        "id": "kwzvxBSsgfvu",
        "outputId": "64d5bf5f-c110-4264-a0b8-eefddfe6fb05"
      },
      "outputs": [
        {
          "output_type": "execute_result",
          "data": {
            "text/plain": [
              "4125"
            ]
          },
          "metadata": {},
          "execution_count": 6
        }
      ],
      "source": [
        "def square_digits(num):\n",
        "    lista = [int(n)**2 for n in str(num)]\n",
        "    return int(''.join(str(n) for n in lista))\n",
        "\n",
        "square_digits(215)"
      ]
    }
  ]
}