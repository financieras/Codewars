{
  "nbformat": 4,
  "nbformat_minor": 0,
  "metadata": {
    "colab": {
      "provenance": [],
      "authorship_tag": "ABX9TyNrUqkhPTe+DDBscYmWTvdx",
      "include_colab_link": true
    },
    "kernelspec": {
      "name": "python3",
      "display_name": "Python 3"
    },
    "language_info": {
      "name": "python"
    }
  },
  "cells": [
    {
      "cell_type": "markdown",
      "metadata": {
        "id": "view-in-github",
        "colab_type": "text"
      },
      "source": [
        "<a href=\"https://colab.research.google.com/github/financieras/Codewars/blob/main/6kyu/Build_Tower.ipynb\" target=\"_parent\"><img src=\"https://colab.research.google.com/assets/colab-badge.svg\" alt=\"Open In Colab\"/></a>"
      ]
    },
    {
      "cell_type": "markdown",
      "source": [
        "#Build Tower\n",
        "Build a pyramid-shaped tower, as an array/list of strings, given a positive integer number of floors. A tower block is represented with \"*\" character.\n",
        "\n",
        "For example, a tower with 3 floors looks like this:\n",
        "\n",
        "```python\n",
        "[\n",
        "  \"  *  \",\n",
        "  \" *** \",\n",
        "  \"*****\"\n",
        "]\n",
        "```\n",
        "\n",
        "And a tower with 6 floors looks like this:\n",
        "\n",
        "```python\n",
        "[\n",
        "  \"     *     \",\n",
        "  \"    ***    \",\n",
        "  \"   *****   \",\n",
        "  \"  *******  \",\n",
        "  \" ********* \",\n",
        "  \"***********\"\n",
        "]\n",
        "```"
      ],
      "metadata": {
        "id": "oCwT-xPSG71-"
      }
    },
    {
      "cell_type": "code",
      "source": [
        "def tower_builder(n):\n",
        "    tower = []\n",
        "    for row in range(n_floors):\n",
        "        tower.append(' ' * (n_floors-row-1) + '*' * (2*row+1) + ' ' * (n_floors-row-1))\n",
        "    return tower\n",
        "\n",
        "tower_builder(6)"
      ],
      "metadata": {
        "id": "WjBPqeosFvEl",
        "outputId": "f235e4b1-d1fc-49cc-e6f6-0176729487b4",
        "colab": {
          "base_uri": "https://localhost:8080/"
        }
      },
      "execution_count": 17,
      "outputs": [
        {
          "output_type": "execute_result",
          "data": {
            "text/plain": [
              "['     *     ',\n",
              " '    ***    ',\n",
              " '   *****   ',\n",
              " '  *******  ',\n",
              " ' ********* ',\n",
              " '***********']"
            ]
          },
          "metadata": {},
          "execution_count": 17
        }
      ]
    },
    {
      "cell_type": "code",
      "source": [
        "def tower_builder(n):\n",
        "    return [' '*(n-i-1) + '*'*(2*i+1) + ' '*(n-i-1) for i in range(n)]\n",
        "\n",
        "tower_builder(6)"
      ],
      "metadata": {
        "id": "TXm3eN9hGKj2",
        "outputId": "fc6061ef-0eb7-46ba-fb05-ca4db23dbf48",
        "colab": {
          "base_uri": "https://localhost:8080/"
        }
      },
      "execution_count": 16,
      "outputs": [
        {
          "output_type": "execute_result",
          "data": {
            "text/plain": [
              "['     *     ',\n",
              " '    ***    ',\n",
              " '   *****   ',\n",
              " '  *******  ',\n",
              " ' ********* ',\n",
              " '***********']"
            ]
          },
          "metadata": {},
          "execution_count": 16
        }
      ]
    }
  ]
}