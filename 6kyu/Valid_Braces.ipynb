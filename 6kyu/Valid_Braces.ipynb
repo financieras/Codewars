{
  "nbformat": 4,
  "nbformat_minor": 0,
  "metadata": {
    "colab": {
      "provenance": [],
      "authorship_tag": "ABX9TyNyU00rNT7EEvpXwddS/TzE",
      "include_colab_link": true
    },
    "kernelspec": {
      "name": "python3",
      "display_name": "Python 3"
    },
    "language_info": {
      "name": "python"
    }
  },
  "cells": [
    {
      "cell_type": "markdown",
      "metadata": {
        "id": "view-in-github",
        "colab_type": "text"
      },
      "source": [
        "<a href=\"https://colab.research.google.com/github/financieras/Codewars/blob/main/6kyu/Valid_Braces.ipynb\" target=\"_parent\"><img src=\"https://colab.research.google.com/assets/colab-badge.svg\" alt=\"Open In Colab\"/></a>"
      ]
    },
    {
      "cell_type": "markdown",
      "source": [
        "# Valid Braces\n",
        "* 6kyu\n",
        "\n",
        "Write a function that takes a string of braces, and determines if the order of the braces is valid. It should return true if the string is valid, and false if it's invalid.\n",
        "\n",
        "This Kata is similar to the Valid Parentheses Kata, but introduces new characters: brackets [], and curly braces {}. Thanks to @arnedag for the idea!\n",
        "\n",
        "All input strings will be nonempty, and will only consist of parentheses, brackets and curly braces: ()[]{}.\n",
        "\n",
        "What is considered Valid?\n",
        "A string of braces is considered valid if all braces are matched with the correct brace.\n",
        "\n",
        "**Examples**\n",
        "\n",
        "* `\"(){}[]\"   =>  True`\n",
        "* `\"([{}])\"   =>  True`\n",
        "* `\"(}\"       =>  False`\n",
        "* `\"[(])\"     =>  False`\n",
        "* `\"[({})](]\" =>  False`"
      ],
      "metadata": {
        "id": "HsLiXpt5O7YR"
      }
    },
    {
      "cell_type": "code",
      "source": [
        "def valid_braces(string):\n",
        "    while string:\n",
        "        old_string = string\n",
        "        for i in range(len(string)-1):\n",
        "            if string[i:i+2] == \"()\" or string[i:i+2] == \"[]\" or string[i:i+2] == \"{}\":\n",
        "                string = string[:i] + string[i+2:]\n",
        "        if old_string == string:\n",
        "            return False\n",
        "    return string == ''"
      ],
      "metadata": {
        "id": "LXFXCe2-N-fq"
      },
      "execution_count": null,
      "outputs": []
    }
  ]
}